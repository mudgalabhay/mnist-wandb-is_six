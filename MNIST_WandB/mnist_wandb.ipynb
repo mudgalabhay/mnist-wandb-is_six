{
 "cells": [
  {
   "attachments": {
    "image.png": {
     "image/png": "[encoded data removed]"
    }
   },
   "cell_type": "markdown",
   "id": "78418901",
   "metadata": {},
   "source": [
    "Hi Everyone!\n",
    "\n",
    "Was trying some hands-on on MNIST dataset and using Weights & biasis tool to monitor the training in real-time.\n",
    "\n",
    "![image.png](attachment:image.png)\n",
    "\n",
    "We are going to make simple neural network and will be \"debugging\" it to find any issue in it and finally make it work.\n",
    "\n",
    "The goal as you all know is simple, to look at digits that people actually wrote down of different numbers and our classifier will try to figure our from those pixels what number the person wrote down.\n",
    "\n",
    "Let's try to simplify it to detect whether the digit wriiten is \"6\" or not.\n",
    "So our model will predict 1 if the digit is 6 & 0 if digit is 0.\n",
    "\n",
    "This might not be a big task for everyone, but hope someone might find this helpful!, since the goal was here to learn debugging using W&B."
   ]
  },
  {
   "cell_type": "code",
   "execution_count": 1,
   "id": "de65ba13",
   "metadata": {},
   "outputs": [],
   "source": [
    "#!pip install tensorflow"
   ]
  },
  {
   "cell_type": "code",
   "execution_count": 1,
   "id": "2f9dcfbe",
   "metadata": {},
   "outputs": [],
   "source": [
    "import warnings\n",
    "\n",
    "warnings.filterwarnings(\"ignore\")"
   ]
  },
  {
   "cell_type": "code",
   "execution_count": 2,
   "id": "3b68b498",
   "metadata": {},
   "outputs": [],
   "source": [
    "from keras.datasets import mnist"
   ]
  },
  {
   "cell_type": "code",
   "execution_count": 3,
   "id": "e7ba17e1",
   "metadata": {},
   "outputs": [],
   "source": [
    "from keras.models import Sequential\n",
    "from keras.layers import Dense, Flatten\n",
    "from keras.utils import np_utils, to_categorical"
   ]
  },
  {
   "cell_type": "code",
   "execution_count": 4,
   "id": "2581de03",
   "metadata": {},
   "outputs": [],
   "source": [
    "#!pip install wandb"
   ]
  },
  {
   "cell_type": "code",
   "execution_count": 5,
   "id": "e384d7e0",
   "metadata": {},
   "outputs": [],
   "source": [
    "import wandb\n",
    "from wandb.keras import WandbCallback"
   ]
  },
  {
   "cell_type": "code",
   "execution_count": 6,
   "id": "22a6c59f",
   "metadata": {},
   "outputs": [
    {
     "name": "stderr",
     "output_type": "stream",
     "text": [
      "\u001b[34m\u001b[1mwandb\u001b[0m: Currently logged in as: \u001b[33mmudgalabhay57\u001b[0m. Use \u001b[1m`wandb login --relogin`\u001b[0m to force relogin\n"
     ]
    },
    {
     "data": {
      "text/html": [
       "wandb version 0.13.7 is available!  To upgrade, please run:\n",
       " $ pip install wandb --upgrade"
      ],
      "text/plain": [
       "<IPython.core.display.HTML object>"
      ]
     },
     "metadata": {},
     "output_type": "display_data"
    },
    {
     "data": {
      "text/html": [
       "Tracking run with wandb version 0.13.3"
      ],
      "text/plain": [
       "<IPython.core.display.HTML object>"
      ]
     },
     "metadata": {},
     "output_type": "display_data"
    },
    {
     "data": {
      "text/html": [
       "Run data is saved locally in <code>E:\\Weights_and_Biases_Tutorials\\MNIST - W&B -- Done\\wandb\\run-20230107_153735-12hyy66z</code>"
      ],
      "text/plain": [
       "<IPython.core.display.HTML object>"
      ]
     },
     "metadata": {},
     "output_type": "display_data"
    },
    {
     "data": {
      "text/html": [
       "Syncing run <strong><a href=\"https://wandb.ai/mudgalabhay57/uncategorized/runs/12hyy66z\" target=\"_blank\">wise-darkness-1</a></strong> to <a href=\"https://wandb.ai/mudgalabhay57/uncategorized\" target=\"_blank\">Weights & Biases</a> (<a href=\"https://wandb.me/run\" target=\"_blank\">docs</a>)<br/>"
      ],
      "text/plain": [
       "<IPython.core.display.HTML object>"
      ]
     },
     "metadata": {},
     "output_type": "display_data"
    }
   ],
   "source": [
    "# Login\n",
    "run = wandb.init()\n",
    "\n",
    "config = run.config\n",
    "\n",
    "config.epochs = 10"
   ]
  },
  {
   "cell_type": "code",
   "execution_count": 7,
   "id": "53d5f9e3",
   "metadata": {},
   "outputs": [
    {
     "data": {
      "text/plain": [
       "tuple"
      ]
     },
     "execution_count": 7,
     "metadata": {},
     "output_type": "execute_result"
    }
   ],
   "source": [
    "data = mnist.load_data()\n",
    "\n",
    "type(data)"
   ]
  },
  {
   "cell_type": "code",
   "execution_count": 8,
   "id": "6d74a8f5",
   "metadata": {},
   "outputs": [],
   "source": [
    "# Load Dataset\n",
    "(train_images, train_labels), (test_images, test_labels) = data\n",
    "\n",
    "is_six_train = train_labels == 6\n",
    "\n",
    "is_six_test = test_labels == 6\n",
    "\n",
    "labels = [\"Not Six\", \"Is Six\"]"
   ]
  },
  {
   "cell_type": "code",
   "execution_count": 9,
   "id": "577860a7",
   "metadata": {},
   "outputs": [
    {
     "name": "stdout",
     "output_type": "stream",
     "text": [
      "IMG SIZE: 28*28\n"
     ]
    }
   ],
   "source": [
    "# Image Size\n",
    "IMG_WIDTH = train_images[0].shape[0]\n",
    "\n",
    "IMG_HEIGHT = train_images[0].shape[1]\n",
    "\n",
    "print(\"IMG SIZE: {0}\".format(str(IMG_WIDTH) + '*' + str(IMG_HEIGHT)))"
   ]
  },
  {
   "cell_type": "code",
   "execution_count": 10,
   "id": "a9e26dc8",
   "metadata": {},
   "outputs": [],
   "source": [
    "# Develop base model\n",
    "\n",
    "model_1 = Sequential()\n",
    "\n",
    "model_1.add(Flatten(input_shape=(IMG_WIDTH, IMG_HEIGHT)))\n",
    "\n",
    "model_1.add(Dense(1))\n",
    "\n",
    "model_1.compile(loss='mse', optimizer='adam', metrics=['accuracy'])"
   ]
  },
  {
   "cell_type": "code",
   "execution_count": 11,
   "id": "03387132",
   "metadata": {},
   "outputs": [
    {
     "name": "stderr",
     "output_type": "stream",
     "text": [
      "\u001b[34m\u001b[1mwandb\u001b[0m: \u001b[33mWARNING\u001b[0m The save_model argument by default saves the model in the HDF5 format that cannot save custom objects like subclassed models and custom layers. This behavior will be deprecated in a future release in favor of the SavedModel format. Meanwhile, the HDF5 model is saved as W&B files and the SavedModel as W&B Artifacts.\n"
     ]
    },
    {
     "name": "stdout",
     "output_type": "stream",
     "text": [
      "WARNING:tensorflow:From C:\\Users\\mudga\\anaconda3\\envs\\wandb_env\\lib\\site-packages\\tensorflow\\python\\ops\\math_ops.py:3837: tensor_shape_from_node_def_name (from tensorflow.python.framework.graph_util_impl) is deprecated and will be removed in a future version.\n",
      "Instructions for updating:\n",
      "Use `tf.compat.v1.graph_util.tensor_shape_from_node_def_name`\n",
      "Epoch 1/10\n",
      "   1/1875 [..............................] - ETA: 10:43 - loss: 4446.9858 - accuracy: 0.6875WARNING:tensorflow:Callback method `on_train_batch_end` is slow compared to the batch time (batch time: 0.0008s vs `on_train_batch_end` time: 0.0012s). Check your callbacks.\n",
      "1871/1875 [============================>.] - ETA: 0s - loss: 244.4647 - accuracy: 0.5222INFO:tensorflow:Assets written to: E:\\Weights_and_Biases_Tutorials\\MNIST - W&B -- Done\\wandb\\run-20230107_153735-12hyy66z\\files\\model-best\\assets\n"
     ]
    },
    {
     "name": "stderr",
     "output_type": "stream",
     "text": [
      "\u001b[34m\u001b[1mwandb\u001b[0m: Adding directory to artifact (E:\\Weights_and_Biases_Tutorials\\MNIST - W&B -- Done\\wandb\\run-20230107_153735-12hyy66z\\files\\model-best)... Done. 0.0s\n"
     ]
    },
    {
     "name": "stdout",
     "output_type": "stream",
     "text": [
      "1875/1875 [==============================] - 3s 2ms/step - loss: 243.9756 - accuracy: 0.5219 - val_loss: 12.2205 - val_accuracy: 0.5807\n",
      "Epoch 2/10\n",
      "1841/1875 [============================>.] - ETA: 0s - loss: 5.3080 - accuracy: 0.6072INFO:tensorflow:Assets written to: E:\\Weights_and_Biases_Tutorials\\MNIST - W&B -- Done\\wandb\\run-20230107_153735-12hyy66z\\files\\model-best\\assets\n"
     ]
    },
    {
     "name": "stderr",
     "output_type": "stream",
     "text": [
      "\u001b[34m\u001b[1mwandb\u001b[0m: Adding directory to artifact (E:\\Weights_and_Biases_Tutorials\\MNIST - W&B -- Done\\wandb\\run-20230107_153735-12hyy66z\\files\\model-best)... Done. 0.0s\n"
     ]
    },
    {
     "name": "stdout",
     "output_type": "stream",
     "text": [
      "1875/1875 [==============================] - 3s 2ms/step - loss: 5.2367 - accuracy: 0.6085 - val_loss: 1.1850 - val_accuracy: 0.5436\n",
      "Epoch 3/10\n",
      "1875/1875 [==============================] - 2s 961us/step - loss: 7.1097 - accuracy: 0.6135 - val_loss: 4.0230 - val_accuracy: 0.8024\n",
      "Epoch 4/10\n",
      "1875/1875 [==============================] - 2s 1ms/step - loss: 5.5452 - accuracy: 0.6021 - val_loss: 7.1524 - val_accuracy: 0.5811\n",
      "Epoch 5/10\n",
      "1875/1875 [==============================] - 2s 1ms/step - loss: 6.4739 - accuracy: 0.5966 - val_loss: 5.6231 - val_accuracy: 0.8896\n",
      "Epoch 6/10\n",
      "1875/1875 [==============================] - 2s 962us/step - loss: 6.2000 - accuracy: 0.6055 - val_loss: 8.7218 - val_accuracy: 0.7342\n",
      "Epoch 7/10\n",
      "1875/1875 [==============================] - 2s 925us/step - loss: 6.3420 - accuracy: 0.5947 - val_loss: 8.6431 - val_accuracy: 0.6770\n",
      "Epoch 8/10\n",
      "1875/1875 [==============================] - 2s 1ms/step - loss: 8.0103 - accuracy: 0.5865 - val_loss: 6.3546 - val_accuracy: 0.5334\n",
      "Epoch 9/10\n",
      "1817/1875 [============================>.] - ETA: 0s - loss: 8.1559 - accuracy: 0.6207INFO:tensorflow:Assets written to: E:\\Weights_and_Biases_Tutorials\\MNIST - W&B -- Done\\wandb\\run-20230107_153735-12hyy66z\\files\\model-best\\assets\n"
     ]
    },
    {
     "name": "stderr",
     "output_type": "stream",
     "text": [
      "\u001b[34m\u001b[1mwandb\u001b[0m: Adding directory to artifact (E:\\Weights_and_Biases_Tutorials\\MNIST - W&B -- Done\\wandb\\run-20230107_153735-12hyy66z\\files\\model-best)... Done. 0.0s\n"
     ]
    },
    {
     "name": "stdout",
     "output_type": "stream",
     "text": [
      "1875/1875 [==============================] - 5s 2ms/step - loss: 7.9261 - accuracy: 0.6244 - val_loss: 0.4945 - val_accuracy: 0.7411\n",
      "Epoch 10/10\n",
      "1875/1875 [==============================] - 2s 974us/step - loss: 6.9470 - accuracy: 0.6137 - val_loss: 0.9870 - val_accuracy: 0.6558\n"
     ]
    },
    {
     "data": {
      "text/plain": [
       "<keras.callbacks.History at 0x224d3be02e0>"
      ]
     },
     "execution_count": 11,
     "metadata": {},
     "output_type": "execute_result"
    }
   ],
   "source": [
    "model_1.fit(train_images, is_six_train, epochs=config.epochs, \n",
    "            validation_data=(test_images, is_six_test),\n",
    "           callbacks=[WandbCallback(labels=labels)])"
   ]
  },
  {
   "cell_type": "code",
   "execution_count": 13,
   "id": "7c360a66",
   "metadata": {},
   "outputs": [
    {
     "name": "stdout",
     "output_type": "stream",
     "text": [
      "Epoch 1/100\n",
      "   1/1875 [..............................] - ETA: 8:29 - loss: 0.9772 - accuracy: 0.5625WARNING:tensorflow:Callback method `on_train_batch_end` is slow compared to the batch time (batch time: 0.0010s vs `on_train_batch_end` time: 0.0015s). Check your callbacks.\n",
      "1839/1875 [============================>.] - ETA: 0s - loss: 7.0046 - accuracy: 0.6549INFO:tensorflow:Assets written to: E:\\Weights_and_Biases_Tutorials\\MNIST - W&B -- Done\\wandb\\run-20230107_153912-2tt0hk8o\\files\\model-best\\assets\n"
     ]
    },
    {
     "name": "stderr",
     "output_type": "stream",
     "text": [
      "\u001b[34m\u001b[1mwandb\u001b[0m: Adding directory to artifact (E:\\Weights_and_Biases_Tutorials\\MNIST - W&B -- Done\\wandb\\run-20230107_153912-2tt0hk8o\\files\\model-best)... Done. 0.0s\n"
     ]
    },
    {
     "name": "stdout",
     "output_type": "stream",
     "text": [
      "1875/1875 [==============================] - 3s 2ms/step - loss: 6.9114 - accuracy: 0.6548 - val_loss: 5.1911 - val_accuracy: 0.1790\n",
      "Epoch 2/100\n",
      "1820/1875 [============================>.] - ETA: 0s - loss: 5.6729 - accuracy: 0.6111INFO:tensorflow:Assets written to: E:\\Weights_and_Biases_Tutorials\\MNIST - W&B -- Done\\wandb\\run-20230107_153912-2tt0hk8o\\files\\model-best\\assets\n"
     ]
    },
    {
     "name": "stderr",
     "output_type": "stream",
     "text": [
      "\u001b[34m\u001b[1mwandb\u001b[0m: Adding directory to artifact (E:\\Weights_and_Biases_Tutorials\\MNIST - W&B -- Done\\wandb\\run-20230107_153912-2tt0hk8o\\files\\model-best)... Done. 0.0s\n"
     ]
    },
    {
     "name": "stdout",
     "output_type": "stream",
     "text": [
      "1875/1875 [==============================] - 3s 2ms/step - loss: 5.6072 - accuracy: 0.6113 - val_loss: 3.2910 - val_accuracy: 0.5312\n",
      "Epoch 3/100\n",
      "1870/1875 [============================>.] - ETA: 0s - loss: 7.5845 - accuracy: 0.5886INFO:tensorflow:Assets written to: E:\\Weights_and_Biases_Tutorials\\MNIST - W&B -- Done\\wandb\\run-20230107_153912-2tt0hk8o\\files\\model-best\\assets\n"
     ]
    },
    {
     "name": "stderr",
     "output_type": "stream",
     "text": [
      "\u001b[34m\u001b[1mwandb\u001b[0m: Adding directory to artifact (E:\\Weights_and_Biases_Tutorials\\MNIST - W&B -- Done\\wandb\\run-20230107_153912-2tt0hk8o\\files\\model-best)... Done. 0.0s\n"
     ]
    },
    {
     "name": "stdout",
     "output_type": "stream",
     "text": [
      "1875/1875 [==============================] - 3s 1ms/step - loss: 7.5721 - accuracy: 0.5888 - val_loss: 2.7571 - val_accuracy: 0.5888\n",
      "Epoch 4/100\n",
      "1875/1875 [==============================] - 2s 936us/step - loss: 5.4458 - accuracy: 0.6216 - val_loss: 3.3913 - val_accuracy: 0.8418\n",
      "Epoch 5/100\n",
      "1847/1875 [============================>.] - ETA: 0s - loss: 8.0092 - accuracy: 0.5874INFO:tensorflow:Assets written to: E:\\Weights_and_Biases_Tutorials\\MNIST - W&B -- Done\\wandb\\run-20230107_153912-2tt0hk8o\\files\\model-best\\assets\n"
     ]
    },
    {
     "name": "stderr",
     "output_type": "stream",
     "text": [
      "\u001b[34m\u001b[1mwandb\u001b[0m: Adding directory to artifact (E:\\Weights_and_Biases_Tutorials\\MNIST - W&B -- Done\\wandb\\run-20230107_153912-2tt0hk8o\\files\\model-best)... Done. 0.0s\n"
     ]
    },
    {
     "name": "stdout",
     "output_type": "stream",
     "text": [
      "1875/1875 [==============================] - 3s 2ms/step - loss: 7.9409 - accuracy: 0.5879 - val_loss: 1.9581 - val_accuracy: 0.6032\n",
      "Epoch 6/100\n",
      "1875/1875 [==============================] - 2s 950us/step - loss: 6.9264 - accuracy: 0.6060 - val_loss: 19.7294 - val_accuracy: 0.5590\n",
      "Epoch 7/100\n",
      "1875/1875 [==============================] - 2s 917us/step - loss: 5.6730 - accuracy: 0.6082 - val_loss: 6.4116 - val_accuracy: 0.4186\n",
      "Epoch 8/100\n",
      "1875/1875 [==============================] - 2s 905us/step - loss: 7.8507 - accuracy: 0.5844 - val_loss: 9.1338 - val_accuracy: 0.6190\n",
      "Epoch 9/100\n",
      "1875/1875 [==============================] - 2s 985us/step - loss: 5.5746 - accuracy: 0.6020 - val_loss: 9.5526 - val_accuracy: 0.8574\n",
      "Epoch 10/100\n",
      "1875/1875 [==============================] - 2s 899us/step - loss: 6.0788 - accuracy: 0.5917 - val_loss: 2.9237 - val_accuracy: 0.8030\n",
      "Epoch 11/100\n",
      "1829/1875 [============================>.] - ETA: 0s - loss: 6.5424 - accuracy: 0.6015INFO:tensorflow:Assets written to: E:\\Weights_and_Biases_Tutorials\\MNIST - W&B -- Done\\wandb\\run-20230107_153912-2tt0hk8o\\files\\model-best\\assets\n"
     ]
    },
    {
     "name": "stderr",
     "output_type": "stream",
     "text": [
      "\u001b[34m\u001b[1mwandb\u001b[0m: Adding directory to artifact (E:\\Weights_and_Biases_Tutorials\\MNIST - W&B -- Done\\wandb\\run-20230107_153912-2tt0hk8o\\files\\model-best)... Done. 0.0s\n"
     ]
    },
    {
     "name": "stdout",
     "output_type": "stream",
     "text": [
      "1875/1875 [==============================] - 3s 1ms/step - loss: 6.4548 - accuracy: 0.6017 - val_loss: 1.8048 - val_accuracy: 0.6764\n",
      "Epoch 12/100\n",
      "1875/1875 [==============================] - 2s 1ms/step - loss: 6.8468 - accuracy: 0.5996 - val_loss: 6.0674 - val_accuracy: 0.4263\n",
      "Epoch 13/100\n",
      "1875/1875 [==============================] - 2s 919us/step - loss: 6.5104 - accuracy: 0.5932 - val_loss: 2.3380 - val_accuracy: 0.5945\n",
      "Epoch 14/100\n",
      "1875/1875 [==============================] - 2s 916us/step - loss: 9.1776 - accuracy: 0.5968 - val_loss: 4.7476 - val_accuracy: 0.5051\n",
      "Epoch 15/100\n",
      "1875/1875 [==============================] - 2s 897us/step - loss: 4.9685 - accuracy: 0.6250 - val_loss: 2.9544 - val_accuracy: 0.7796\n",
      "Epoch 16/100\n",
      "1875/1875 [==============================] - 2s 937us/step - loss: 6.3503 - accuracy: 0.6006 - val_loss: 15.6412 - val_accuracy: 0.1858\n",
      "Epoch 17/100\n",
      "1875/1875 [==============================] - 2s 965us/step - loss: 6.5233 - accuracy: 0.6101 - val_loss: 2.0862 - val_accuracy: 0.6045\n",
      "Epoch 18/100\n",
      "1875/1875 [==============================] - 2s 914us/step - loss: 7.2311 - accuracy: 0.5900 - val_loss: 3.4674 - val_accuracy: 0.6272\n",
      "Epoch 19/100\n",
      "1875/1875 [==============================] - 2s 905us/step - loss: 5.9063 - accuracy: 0.6178 - val_loss: 6.2757 - val_accuracy: 0.3524\n",
      "Epoch 20/100\n",
      "1875/1875 [==============================] - 2s 887us/step - loss: 7.0467 - accuracy: 0.6139 - val_loss: 5.4092 - val_accuracy: 0.8435\n",
      "Epoch 21/100\n",
      "1817/1875 [============================>.] - ETA: 0s - loss: 6.9681 - accuracy: 0.5999INFO:tensorflow:Assets written to: E:\\Weights_and_Biases_Tutorials\\MNIST - W&B -- Done\\wandb\\run-20230107_153912-2tt0hk8o\\files\\model-best\\assets\n"
     ]
    },
    {
     "name": "stderr",
     "output_type": "stream",
     "text": [
      "\u001b[34m\u001b[1mwandb\u001b[0m: Adding directory to artifact (E:\\Weights_and_Biases_Tutorials\\MNIST - W&B -- Done\\wandb\\run-20230107_153912-2tt0hk8o\\files\\model-best)... Done. 0.0s\n"
     ]
    },
    {
     "name": "stdout",
     "output_type": "stream",
     "text": [
      "1875/1875 [==============================] - 3s 1ms/step - loss: 6.8042 - accuracy: 0.6020 - val_loss: 1.1680 - val_accuracy: 0.7017\n",
      "Epoch 22/100\n",
      "1875/1875 [==============================] - 2s 952us/step - loss: 6.9789 - accuracy: 0.5971 - val_loss: 9.9082 - val_accuracy: 0.3524\n",
      "Epoch 23/100\n",
      "1875/1875 [==============================] - 2s 933us/step - loss: 6.2287 - accuracy: 0.5861 - val_loss: 4.1763 - val_accuracy: 0.7689\n",
      "Epoch 24/100\n",
      "1875/1875 [==============================] - 2s 906us/step - loss: 6.1110 - accuracy: 0.5936 - val_loss: 3.7780 - val_accuracy: 0.4079\n",
      "Epoch 25/100\n",
      "1875/1875 [==============================] - 2s 925us/step - loss: 6.8701 - accuracy: 0.6111 - val_loss: 2.2442 - val_accuracy: 0.8207\n",
      "Epoch 26/100\n",
      "1875/1875 [==============================] - 2s 887us/step - loss: 7.2258 - accuracy: 0.5961 - val_loss: 10.0404 - val_accuracy: 0.5019\n",
      "Epoch 27/100\n",
      "1875/1875 [==============================] - 2s 936us/step - loss: 5.5553 - accuracy: 0.5979 - val_loss: 14.8708 - val_accuracy: 0.7304\n",
      "Epoch 28/100\n",
      "1875/1875 [==============================] - 2s 903us/step - loss: 6.5109 - accuracy: 0.6364 - val_loss: 2.9563 - val_accuracy: 0.4029\n",
      "Epoch 29/100\n",
      "1875/1875 [==============================] - 2s 967us/step - loss: 6.4088 - accuracy: 0.5924 - val_loss: 2.3205 - val_accuracy: 0.7011\n",
      "Epoch 30/100\n",
      "1875/1875 [==============================] - 2s 898us/step - loss: 7.2313 - accuracy: 0.6157 - val_loss: 2.7641 - val_accuracy: 0.3710\n",
      "Epoch 31/100\n",
      "1875/1875 [==============================] - 2s 895us/step - loss: 8.9079 - accuracy: 0.5935 - val_loss: 9.0237 - val_accuracy: 0.5118\n",
      "Epoch 32/100\n",
      "1875/1875 [==============================] - 2s 911us/step - loss: 5.4390 - accuracy: 0.6257 - val_loss: 1.5043 - val_accuracy: 0.5820\n",
      "Epoch 33/100\n",
      "1859/1875 [============================>.] - ETA: 0s - loss: 5.8175 - accuracy: 0.6071INFO:tensorflow:Assets written to: E:\\Weights_and_Biases_Tutorials\\MNIST - W&B -- Done\\wandb\\run-20230107_153912-2tt0hk8o\\files\\model-best\\assets\n"
     ]
    },
    {
     "name": "stderr",
     "output_type": "stream",
     "text": [
      "\u001b[34m\u001b[1mwandb\u001b[0m: Adding directory to artifact (E:\\Weights_and_Biases_Tutorials\\MNIST - W&B -- Done\\wandb\\run-20230107_153912-2tt0hk8o\\files\\model-best)... Done. 0.0s\n"
     ]
    },
    {
     "name": "stdout",
     "output_type": "stream",
     "text": [
      "1875/1875 [==============================] - 3s 1ms/step - loss: 5.7774 - accuracy: 0.6078 - val_loss: 0.6863 - val_accuracy: 0.6941\n",
      "Epoch 34/100\n",
      "1875/1875 [==============================] - 2s 912us/step - loss: 6.5148 - accuracy: 0.6072 - val_loss: 5.0437 - val_accuracy: 0.6571\n",
      "Epoch 35/100\n",
      "1875/1875 [==============================] - 2s 923us/step - loss: 5.6719 - accuracy: 0.5957 - val_loss: 4.0772 - val_accuracy: 0.7581\n",
      "Epoch 36/100\n",
      "1875/1875 [==============================] - 2s 895us/step - loss: 7.5943 - accuracy: 0.5925 - val_loss: 11.9802 - val_accuracy: 0.8593\n",
      "Epoch 37/100\n",
      "1875/1875 [==============================] - 2s 886us/step - loss: 5.8042 - accuracy: 0.5933 - val_loss: 2.0974 - val_accuracy: 0.5063\n",
      "Epoch 38/100\n",
      "1875/1875 [==============================] - 2s 898us/step - loss: 7.8940 - accuracy: 0.6050 - val_loss: 2.3129 - val_accuracy: 0.7291\n",
      "Epoch 39/100\n",
      "1875/1875 [==============================] - 2s 896us/step - loss: 6.8580 - accuracy: 0.6095 - val_loss: 11.2265 - val_accuracy: 0.5653\n",
      "Epoch 40/100\n",
      "1875/1875 [==============================] - 2s 893us/step - loss: 5.4850 - accuracy: 0.6097 - val_loss: 3.2780 - val_accuracy: 0.8596\n",
      "Epoch 41/100\n",
      "1875/1875 [==============================] - 2s 939us/step - loss: 6.2614 - accuracy: 0.5958 - val_loss: 5.2480 - val_accuracy: 0.4073\n",
      "Epoch 42/100\n",
      "1875/1875 [==============================] - 2s 916us/step - loss: 7.9038 - accuracy: 0.5853 - val_loss: 7.4976 - val_accuracy: 0.2525\n",
      "Epoch 43/100\n",
      "1875/1875 [==============================] - 2s 898us/step - loss: 5.8458 - accuracy: 0.6031 - val_loss: 2.2745 - val_accuracy: 0.8207\n",
      "Epoch 44/100\n",
      "1875/1875 [==============================] - 2s 938us/step - loss: 5.8445 - accuracy: 0.5932 - val_loss: 3.0992 - val_accuracy: 0.5502\n",
      "Epoch 45/100\n",
      "1875/1875 [==============================] - 2s 914us/step - loss: 7.2605 - accuracy: 0.5939 - val_loss: 4.7884 - val_accuracy: 0.5536\n",
      "Epoch 46/100\n",
      "1875/1875 [==============================] - 2s 960us/step - loss: 5.9477 - accuracy: 0.6022 - val_loss: 1.8961 - val_accuracy: 0.4236\n",
      "Epoch 47/100\n",
      "1875/1875 [==============================] - 2s 928us/step - loss: 7.9585 - accuracy: 0.5930 - val_loss: 1.9675 - val_accuracy: 0.5951\n",
      "Epoch 48/100\n",
      "1875/1875 [==============================] - 2s 1ms/step - loss: 6.2708 - accuracy: 0.6020 - val_loss: 3.8548 - val_accuracy: 0.3604\n",
      "Epoch 49/100\n",
      "1875/1875 [==============================] - 2s 958us/step - loss: 6.5762 - accuracy: 0.5933 - val_loss: 5.5424 - val_accuracy: 0.6569\n",
      "Epoch 50/100\n",
      "1875/1875 [==============================] - 2s 893us/step - loss: 7.5888 - accuracy: 0.5878 - val_loss: 3.1908 - val_accuracy: 0.7142\n",
      "Epoch 51/100\n",
      "1875/1875 [==============================] - 2s 913us/step - loss: 5.8906 - accuracy: 0.6065 - val_loss: 4.9313 - val_accuracy: 0.8036\n",
      "Epoch 52/100\n",
      "1875/1875 [==============================] - 2s 931us/step - loss: 6.6446 - accuracy: 0.6243 - val_loss: 1.9218 - val_accuracy: 0.3314\n",
      "Epoch 53/100\n",
      "1875/1875 [==============================] - 2s 1ms/step - loss: 7.5816 - accuracy: 0.6187 - val_loss: 6.4282 - val_accuracy: 0.4299\n",
      "Epoch 54/100\n",
      "1875/1875 [==============================] - 2s 919us/step - loss: 6.2367 - accuracy: 0.6056 - val_loss: 10.4553 - val_accuracy: 0.8978\n",
      "Epoch 55/100\n",
      "1875/1875 [==============================] - 2s 1ms/step - loss: 7.0077 - accuracy: 0.5919 - val_loss: 3.2756 - val_accuracy: 0.7588\n",
      "Epoch 56/100\n",
      "1875/1875 [==============================] - 2s 893us/step - loss: 6.3487 - accuracy: 0.5936 - val_loss: 2.2708 - val_accuracy: 0.6296\n",
      "Epoch 57/100\n",
      "1875/1875 [==============================] - 2s 941us/step - loss: 7.1275 - accuracy: 0.6047 - val_loss: 3.5941 - val_accuracy: 0.7697\n",
      "Epoch 58/100\n",
      "1875/1875 [==============================] - 2s 1ms/step - loss: 6.2871 - accuracy: 0.6081 - val_loss: 13.3000 - val_accuracy: 0.3269\n",
      "Epoch 59/100\n",
      "1875/1875 [==============================] - 2s 1ms/step - loss: 8.4702 - accuracy: 0.5976 - val_loss: 13.8477 - val_accuracy: 0.2561\n",
      "Epoch 60/100\n",
      "1875/1875 [==============================] - 2s 1ms/step - loss: 6.0275 - accuracy: 0.6256 - val_loss: 2.2305 - val_accuracy: 0.7877\n",
      "Epoch 61/100\n",
      "1875/1875 [==============================] - 2s 964us/step - loss: 7.5792 - accuracy: 0.5954 - val_loss: 0.9276 - val_accuracy: 0.6853\n",
      "Epoch 62/100\n",
      "1875/1875 [==============================] - 2s 998us/step - loss: 6.3756 - accuracy: 0.6060 - val_loss: 7.4368 - val_accuracy: 0.8410\n",
      "Epoch 63/100\n",
      "1875/1875 [==============================] - 2s 989us/step - loss: 5.7999 - accuracy: 0.5954 - val_loss: 22.4516 - val_accuracy: 0.6633\n",
      "Epoch 64/100\n",
      "1875/1875 [==============================] - 2s 1ms/step - loss: 7.7964 - accuracy: 0.6044 - val_loss: 1.6100 - val_accuracy: 0.6427\n",
      "Epoch 65/100\n",
      "1875/1875 [==============================] - 2s 1ms/step - loss: 5.1916 - accuracy: 0.6187 - val_loss: 5.0862 - val_accuracy: 0.4206\n",
      "Epoch 66/100\n",
      "1875/1875 [==============================] - 2s 996us/step - loss: 7.2968 - accuracy: 0.6212 - val_loss: 1.4948 - val_accuracy: 0.4981\n",
      "Epoch 67/100\n",
      "1875/1875 [==============================] - 2s 992us/step - loss: 8.0578 - accuracy: 0.5959 - val_loss: 3.9815 - val_accuracy: 0.6760\n",
      "Epoch 68/100\n",
      "1875/1875 [==============================] - 2s 904us/step - loss: 5.6897 - accuracy: 0.5993 - val_loss: 1.2238 - val_accuracy: 0.5624\n",
      "Epoch 69/100\n",
      "1875/1875 [==============================] - 2s 887us/step - loss: 6.2746 - accuracy: 0.5901 - val_loss: 5.9287 - val_accuracy: 0.2807\n",
      "Epoch 70/100\n",
      "1875/1875 [==============================] - 2s 948us/step - loss: 6.7441 - accuracy: 0.6130 - val_loss: 4.5132 - val_accuracy: 0.3581\n",
      "Epoch 71/100\n",
      "1875/1875 [==============================] - 2s 1ms/step - loss: 7.1026 - accuracy: 0.5998 - val_loss: 5.8753 - val_accuracy: 0.4810\n",
      "Epoch 72/100\n",
      "1875/1875 [==============================] - 2s 984us/step - loss: 7.3504 - accuracy: 0.5938 - val_loss: 4.5150 - val_accuracy: 0.3093\n",
      "Epoch 73/100\n",
      "1875/1875 [==============================] - 2s 993us/step - loss: 6.5518 - accuracy: 0.6124 - val_loss: 31.0422 - val_accuracy: 0.2333\n",
      "Epoch 74/100\n",
      "1875/1875 [==============================] - 2s 974us/step - loss: 9.7479 - accuracy: 0.5892 - val_loss: 2.8970 - val_accuracy: 0.6293\n",
      "Epoch 75/100\n",
      "1875/1875 [==============================] - 2s 922us/step - loss: 4.5457 - accuracy: 0.6263 - val_loss: 3.0312 - val_accuracy: 0.4565\n",
      "Epoch 76/100\n",
      "1875/1875 [==============================] - 2s 902us/step - loss: 6.4211 - accuracy: 0.6034 - val_loss: 1.7573 - val_accuracy: 0.3608\n",
      "Epoch 77/100\n",
      "1875/1875 [==============================] - 2s 1ms/step - loss: 6.4877 - accuracy: 0.5924 - val_loss: 1.3994 - val_accuracy: 0.5296\n",
      "Epoch 78/100\n",
      "1875/1875 [==============================] - 2s 983us/step - loss: 6.5432 - accuracy: 0.5933 - val_loss: 6.0031 - val_accuracy: 0.6594\n",
      "Epoch 79/100\n",
      "1875/1875 [==============================] - 2s 901us/step - loss: 6.7740 - accuracy: 0.6019 - val_loss: 2.0926 - val_accuracy: 0.8172\n",
      "Epoch 80/100\n",
      "1875/1875 [==============================] - 2s 907us/step - loss: 6.6553 - accuracy: 0.5926 - val_loss: 6.1998 - val_accuracy: 0.7571\n",
      "Epoch 81/100\n",
      "1875/1875 [==============================] - 2s 1ms/step - loss: 6.4565 - accuracy: 0.5880 - val_loss: 6.5750 - val_accuracy: 0.7405\n",
      "Epoch 82/100\n",
      "1875/1875 [==============================] - 2s 951us/step - loss: 6.7709 - accuracy: 0.5889 - val_loss: 6.6211 - val_accuracy: 0.4305\n",
      "Epoch 83/100\n",
      "1875/1875 [==============================] - 2s 900us/step - loss: 6.9329 - accuracy: 0.6047 - val_loss: 14.6574 - val_accuracy: 0.6478\n",
      "Epoch 84/100\n",
      "1875/1875 [==============================] - 2s 906us/step - loss: 7.3290 - accuracy: 0.6259 - val_loss: 1.7648 - val_accuracy: 0.8245\n",
      "Epoch 85/100\n",
      "1875/1875 [==============================] - 2s 892us/step - loss: 6.2358 - accuracy: 0.6019 - val_loss: 10.4494 - val_accuracy: 0.3165\n",
      "Epoch 86/100\n",
      "1875/1875 [==============================] - 2s 928us/step - loss: 5.9826 - accuracy: 0.5969 - val_loss: 7.3976 - val_accuracy: 0.6619\n",
      "Epoch 87/100\n",
      "1875/1875 [==============================] - 2s 1ms/step - loss: 5.7884 - accuracy: 0.6119 - val_loss: 6.3504 - val_accuracy: 0.7838\n",
      "Epoch 88/100\n"
     ]
    },
    {
     "name": "stdout",
     "output_type": "stream",
     "text": [
      "1875/1875 [==============================] - 2s 1ms/step - loss: 8.1905 - accuracy: 0.6069 - val_loss: 1.4805 - val_accuracy: 0.4678\n",
      "Epoch 89/100\n",
      "1875/1875 [==============================] - 2s 1ms/step - loss: 6.0872 - accuracy: 0.6093 - val_loss: 1.5575 - val_accuracy: 0.4939\n",
      "Epoch 90/100\n",
      "1875/1875 [==============================] - 2s 1ms/step - loss: 6.6436 - accuracy: 0.6053 - val_loss: 26.7103 - val_accuracy: 0.8232\n",
      "Epoch 91/100\n",
      "1875/1875 [==============================] - 2s 1ms/step - loss: 6.7579 - accuracy: 0.5931 - val_loss: 3.7292 - val_accuracy: 0.4553\n",
      "Epoch 92/100\n",
      "1875/1875 [==============================] - 2s 978us/step - loss: 7.0530 - accuracy: 0.6012 - val_loss: 5.6482 - val_accuracy: 0.8249\n",
      "Epoch 93/100\n",
      "1875/1875 [==============================] - 2s 1ms/step - loss: 6.8894 - accuracy: 0.5997 - val_loss: 1.7740 - val_accuracy: 0.5692\n",
      "Epoch 94/100\n",
      "1875/1875 [==============================] - 2s 1ms/step - loss: 5.5138 - accuracy: 0.6101 - val_loss: 64.6622 - val_accuracy: 0.1954\n",
      "Epoch 95/100\n",
      "1875/1875 [==============================] - 2s 943us/step - loss: 6.1963 - accuracy: 0.5969 - val_loss: 11.3410 - val_accuracy: 0.3154\n",
      "Epoch 96/100\n",
      "1875/1875 [==============================] - 5s 3ms/step - loss: 7.2492 - accuracy: 0.5891 - val_loss: 2.3528 - val_accuracy: 0.7025\n",
      "Epoch 97/100\n",
      "1875/1875 [==============================] - 2s 1ms/step - loss: 6.5352 - accuracy: 0.6030 - val_loss: 4.2459 - val_accuracy: 0.3204\n",
      "Epoch 98/100\n",
      "1875/1875 [==============================] - 2s 1ms/step - loss: 6.8038 - accuracy: 0.5917 - val_loss: 2.0412 - val_accuracy: 0.8120\n",
      "Epoch 99/100\n",
      "1875/1875 [==============================] - 3s 1ms/step - loss: 7.5854 - accuracy: 0.5987 - val_loss: 3.0925 - val_accuracy: 0.8972\n",
      "Epoch 100/100\n",
      "1875/1875 [==============================] - 2s 1ms/step - loss: 5.3985 - accuracy: 0.6110 - val_loss: 1.1891 - val_accuracy: 0.7992\n"
     ]
    },
    {
     "data": {
      "text/plain": [
       "<keras.callbacks.History at 0x224df105880>"
      ]
     },
     "execution_count": 13,
     "metadata": {},
     "output_type": "execute_result"
    }
   ],
   "source": [
    "model_2.compile(loss='mse', optimizer='adam', metrics=['accuracy'])\n",
    "\n",
    "model_2.fit(train_images, is_six_train, epochs=config.epochs, \n",
    "            validation_data=(test_images, is_six_test),\n",
    "           callbacks=[WandbCallback(labels=labels)])"
   ]
  },
  {
   "cell_type": "code",
   "execution_count": 14,
   "id": "fbcbf8fd",
   "metadata": {},
   "outputs": [
    {
     "data": {
      "text/html": [
       "Finishing last run (ID:2tt0hk8o) before initializing another..."
      ],
      "text/plain": [
       "<IPython.core.display.HTML object>"
      ]
     },
     "metadata": {},
     "output_type": "display_data"
    },
    {
     "data": {
      "text/html": [
       "Waiting for W&B process to finish... <strong style=\"color:green\">(success).</strong>"
      ],
      "text/plain": [
       "<IPython.core.display.HTML object>"
      ]
     },
     "metadata": {},
     "output_type": "display_data"
    },
    {
     "data": {
      "application/vnd.jupyter.widget-view+json": {
       "model_id": "",
       "version_major": 2,
       "version_minor": 0
      },
      "text/plain": [
       "VBox(children=(Label(value='0.503 MB of 0.503 MB uploaded (0.005 MB deduped)\\r'), FloatProgress(value=1.0, max…"
      ]
     },
     "metadata": {},
     "output_type": "display_data"
    },
    {
     "data": {
      "text/html": [
       "W&B sync reduced upload amount by 1.0%             "
      ],
      "text/plain": [
       "<IPython.core.display.HTML object>"
      ]
     },
     "metadata": {},
     "output_type": "display_data"
    },
    {
     "data": {
      "text/html": [
       "<style>\n",
       "    table.wandb td:nth-child(1) { padding: 0 10px; text-align: left ; width: auto;} td:nth-child(2) {text-align: left ; width: 100%}\n",
       "    .wandb-row { display: flex; flex-direction: row; flex-wrap: wrap; justify-content: flex-start; width: 100% }\n",
       "    .wandb-col { display: flex; flex-direction: column; flex-basis: 100%; flex: 1; padding: 10px; }\n",
       "    </style>\n",
       "<div class=\"wandb-row\"><div class=\"wandb-col\"><h3>Run history:</h3><br/><table class=\"wandb\"><tr><td>accuracy</td><td>█▁▃▁▃▂▃▂▃▁▂▆▂▃▂▃▂▂▃▂▃▃▂▂▂▃▂▂▂▁▂▃▁▅▄▃▃▄▃▄</td></tr><tr><td>epoch</td><td>▁▁▁▁▂▂▂▂▂▃▃▃▃▃▃▄▄▄▄▄▅▅▅▅▅▅▆▆▆▆▆▇▇▇▇▇▇███</td></tr><tr><td>loss</td><td>▃▄▃▅▃▃▃▄▃▂▄▃▇▃▅▃▂▂▂▃▂▂▃▆▅▅▅▂▄█▃▃▃▄▂▂▄▁▃▁</td></tr><tr><td>val_accuracy</td><td>▁▅▅▅▆▅▁▅▆▇▄▃▄▆█▅▃▅▃▆▇█▅▂▆▆▆▂▂▅▄▇▃▇▇▄▇▁▂▇</td></tr><tr><td>val_loss</td><td>▁▁▃▂▁▁▃▁▁▁▂▁▂▁▂▂▁▁▁▂▁▂▁▂▁▁▁▂▁▁▁▁▂▁▂▁▂█▁▁</td></tr></table><br/></div><div class=\"wandb-col\"><h3>Run summary:</h3><br/><table class=\"wandb\"><tr><td>GFLOPs</td><td>0.0</td></tr><tr><td>accuracy</td><td>0.61098</td></tr><tr><td>best_epoch</td><td>32</td></tr><tr><td>best_val_loss</td><td>0.68628</td></tr><tr><td>epoch</td><td>99</td></tr><tr><td>loss</td><td>5.39853</td></tr><tr><td>val_accuracy</td><td>0.7992</td></tr><tr><td>val_loss</td><td>1.18911</td></tr></table><br/></div></div>"
      ],
      "text/plain": [
       "<IPython.core.display.HTML object>"
      ]
     },
     "metadata": {},
     "output_type": "display_data"
    },
    {
     "data": {
      "text/html": [
       "Synced <strong style=\"color:#cdcd00\">clean-field-2</strong>: <a href=\"https://wandb.ai/mudgalabhay57/uncategorized/runs/2tt0hk8o\" target=\"_blank\">https://wandb.ai/mudgalabhay57/uncategorized/runs/2tt0hk8o</a><br/>Synced 5 W&B file(s), 1 media file(s), 22 artifact file(s) and 1 other file(s)"
      ],
      "text/plain": [
       "<IPython.core.display.HTML object>"
      ]
     },
     "metadata": {},
     "output_type": "display_data"
    },
    {
     "data": {
      "text/html": [
       "Find logs at: <code>.\\wandb\\run-20230107_153912-2tt0hk8o\\logs</code>"
      ],
      "text/plain": [
       "<IPython.core.display.HTML object>"
      ]
     },
     "metadata": {},
     "output_type": "display_data"
    },
    {
     "data": {
      "text/html": [
       "Successfully finished last run (ID:2tt0hk8o). Initializing new run:<br/>"
      ],
      "text/plain": [
       "<IPython.core.display.HTML object>"
      ]
     },
     "metadata": {},
     "output_type": "display_data"
    },
    {
     "data": {
      "application/vnd.jupyter.widget-view+json": {
       "model_id": "664277c578fb45a0a8515665a402376a",
       "version_major": 2,
       "version_minor": 0
      },
      "text/plain": [
       "VBox(children=(Label(value='Waiting for wandb.init()...\\r'), FloatProgress(value=0.0333542267481486, max=1.0))…"
      ]
     },
     "metadata": {},
     "output_type": "display_data"
    },
    {
     "data": {
      "text/html": [
       "wandb version 0.13.7 is available!  To upgrade, please run:\n",
       " $ pip install wandb --upgrade"
      ],
      "text/plain": [
       "<IPython.core.display.HTML object>"
      ]
     },
     "metadata": {},
     "output_type": "display_data"
    },
    {
     "data": {
      "text/html": [
       "Tracking run with wandb version 0.13.3"
      ],
      "text/plain": [
       "<IPython.core.display.HTML object>"
      ]
     },
     "metadata": {},
     "output_type": "display_data"
    },
    {
     "data": {
      "text/html": [
       "Run data is saved locally in <code>E:\\Weights_and_Biases_Tutorials\\MNIST - W&B -- Done\\wandb\\run-20230107_154421-3kjuo63n</code>"
      ],
      "text/plain": [
       "<IPython.core.display.HTML object>"
      ]
     },
     "metadata": {},
     "output_type": "display_data"
    },
    {
     "data": {
      "text/html": [
       "Syncing run <strong><a href=\"https://wandb.ai/mudgalabhay57/uncategorized/runs/3kjuo63n\" target=\"_blank\">rare-bee-3</a></strong> to <a href=\"https://wandb.ai/mudgalabhay57/uncategorized\" target=\"_blank\">Weights & Biases</a> (<a href=\"https://wandb.me/run\" target=\"_blank\">docs</a>)<br/>"
      ],
      "text/plain": [
       "<IPython.core.display.HTML object>"
      ]
     },
     "metadata": {},
     "output_type": "display_data"
    }
   ],
   "source": [
    "# Develop another model (with activation function)\n",
    "run = wandb.init()\n",
    "\n",
    "config = run.config\n",
    "\n",
    "config.epochs = 10\n",
    "\n",
    "model_3 = Sequential()\n",
    "\n",
    "model_3.add(Flatten(input_shape=(IMG_WIDTH, IMG_HEIGHT)))\n",
    "\n",
    "model_3.add(Dense(1, activation='sigmoid'))\n",
    "\n",
    "model_3.compile(loss='mse', optimizer='adam', metrics=['accuracy'])"
   ]
  },
  {
   "cell_type": "code",
   "execution_count": 15,
   "id": "851936a8",
   "metadata": {},
   "outputs": [
    {
     "name": "stdout",
     "output_type": "stream",
     "text": [
      "Epoch 1/10\n",
      "   1/1875 [..............................] - ETA: 9:43 - loss: 0.5004 - accuracy: 0.5000WARNING:tensorflow:Callback method `on_train_batch_end` is slow compared to the batch time (batch time: 0.0000s vs `on_train_batch_end` time: 0.0025s). Check your callbacks.\n",
      "1860/1875 [============================>.] - ETA: 0s - loss: 0.0356 - accuracy: 0.9639INFO:tensorflow:Assets written to: E:\\Weights_and_Biases_Tutorials\\MNIST - W&B -- Done\\wandb\\run-20230107_154421-3kjuo63n\\files\\model-best\\assets\n"
     ]
    },
    {
     "name": "stderr",
     "output_type": "stream",
     "text": [
      "\u001b[34m\u001b[1mwandb\u001b[0m: Adding directory to artifact (E:\\Weights_and_Biases_Tutorials\\MNIST - W&B -- Done\\wandb\\run-20230107_154421-3kjuo63n\\files\\model-best)... Done. 0.0s\n"
     ]
    },
    {
     "name": "stdout",
     "output_type": "stream",
     "text": [
      "1875/1875 [==============================] - 4s 2ms/step - loss: 0.0355 - accuracy: 0.9641 - val_loss: 0.0230 - val_accuracy: 0.9769\n",
      "Epoch 2/10\n",
      "1875/1875 [==============================] - 2s 1ms/step - loss: 0.0246 - accuracy: 0.9752 - val_loss: 0.0333 - val_accuracy: 0.9665\n",
      "Epoch 3/10\n",
      "1865/1875 [============================>.] - ETA: 0s - loss: 0.0221 - accuracy: 0.9778INFO:tensorflow:Assets written to: E:\\Weights_and_Biases_Tutorials\\MNIST - W&B -- Done\\wandb\\run-20230107_154421-3kjuo63n\\files\\model-best\\assets\n"
     ]
    },
    {
     "name": "stderr",
     "output_type": "stream",
     "text": [
      "\u001b[34m\u001b[1mwandb\u001b[0m: Adding directory to artifact (E:\\Weights_and_Biases_Tutorials\\MNIST - W&B -- Done\\wandb\\run-20230107_154421-3kjuo63n\\files\\model-best)... Done. 0.0s\n"
     ]
    },
    {
     "name": "stdout",
     "output_type": "stream",
     "text": [
      "1875/1875 [==============================] - 3s 2ms/step - loss: 0.0221 - accuracy: 0.9778 - val_loss: 0.0203 - val_accuracy: 0.9796\n",
      "Epoch 4/10\n",
      "1875/1875 [==============================] - 2s 1ms/step - loss: 0.0216 - accuracy: 0.9783 - val_loss: 0.0212 - val_accuracy: 0.9784\n",
      "Epoch 5/10\n",
      "1872/1875 [============================>.] - ETA: 0s - loss: 0.0217 - accuracy: 0.9782INFO:tensorflow:Assets written to: E:\\Weights_and_Biases_Tutorials\\MNIST - W&B -- Done\\wandb\\run-20230107_154421-3kjuo63n\\files\\model-best\\assets\n"
     ]
    },
    {
     "name": "stderr",
     "output_type": "stream",
     "text": [
      "\u001b[34m\u001b[1mwandb\u001b[0m: Adding directory to artifact (E:\\Weights_and_Biases_Tutorials\\MNIST - W&B -- Done\\wandb\\run-20230107_154421-3kjuo63n\\files\\model-best)... Done. 0.0s\n"
     ]
    },
    {
     "name": "stdout",
     "output_type": "stream",
     "text": [
      "1875/1875 [==============================] - 3s 2ms/step - loss: 0.0216 - accuracy: 0.9782 - val_loss: 0.0189 - val_accuracy: 0.9810\n",
      "Epoch 6/10\n",
      "1870/1875 [============================>.] - ETA: 0s - loss: 0.0220 - accuracy: 0.9779INFO:tensorflow:Assets written to: E:\\Weights_and_Biases_Tutorials\\MNIST - W&B -- Done\\wandb\\run-20230107_154421-3kjuo63n\\files\\model-best\\assets\n"
     ]
    },
    {
     "name": "stderr",
     "output_type": "stream",
     "text": [
      "\u001b[34m\u001b[1mwandb\u001b[0m: Adding directory to artifact (E:\\Weights_and_Biases_Tutorials\\MNIST - W&B -- Done\\wandb\\run-20230107_154421-3kjuo63n\\files\\model-best)... Done. 0.0s\n"
     ]
    },
    {
     "name": "stdout",
     "output_type": "stream",
     "text": [
      "1875/1875 [==============================] - 3s 2ms/step - loss: 0.0219 - accuracy: 0.9779 - val_loss: 0.0184 - val_accuracy: 0.9815\n",
      "Epoch 7/10\n",
      "1837/1875 [============================>.] - ETA: 0s - loss: 0.0185 - accuracy: 0.9814INFO:tensorflow:Assets written to: E:\\Weights_and_Biases_Tutorials\\MNIST - W&B -- Done\\wandb\\run-20230107_154421-3kjuo63n\\files\\model-best\\assets\n"
     ]
    },
    {
     "name": "stderr",
     "output_type": "stream",
     "text": [
      "\u001b[34m\u001b[1mwandb\u001b[0m: Adding directory to artifact (E:\\Weights_and_Biases_Tutorials\\MNIST - W&B -- Done\\wandb\\run-20230107_154421-3kjuo63n\\files\\model-best)... Done. 0.0s\n"
     ]
    },
    {
     "name": "stdout",
     "output_type": "stream",
     "text": [
      "1875/1875 [==============================] - 4s 2ms/step - loss: 0.0185 - accuracy: 0.9815 - val_loss: 0.0168 - val_accuracy: 0.9832\n",
      "Epoch 8/10\n",
      "1875/1875 [==============================] - 2s 1ms/step - loss: 0.0186 - accuracy: 0.9813 - val_loss: 0.0188 - val_accuracy: 0.9812\n",
      "Epoch 9/10\n",
      "1875/1875 [==============================] - 2s 1ms/step - loss: 0.0182 - accuracy: 0.9816 - val_loss: 0.0216 - val_accuracy: 0.9784\n",
      "Epoch 10/10\n",
      "1835/1875 [============================>.] - ETA: 0s - loss: 0.0205 - accuracy: 0.9794INFO:tensorflow:Assets written to: E:\\Weights_and_Biases_Tutorials\\MNIST - W&B -- Done\\wandb\\run-20230107_154421-3kjuo63n\\files\\model-best\\assets\n"
     ]
    },
    {
     "name": "stderr",
     "output_type": "stream",
     "text": [
      "\u001b[34m\u001b[1mwandb\u001b[0m: Adding directory to artifact (E:\\Weights_and_Biases_Tutorials\\MNIST - W&B -- Done\\wandb\\run-20230107_154421-3kjuo63n\\files\\model-best)... Done. 0.0s\n"
     ]
    },
    {
     "name": "stdout",
     "output_type": "stream",
     "text": [
      "\b\b\b\b\b\b\b\b\b\b\b\b\b\b\b\b\b\b\b\b\b\b\b\b\b\b\b\b\b\b\b\b\b\b\b\b\b\b\b\b\b\b\b\b\b\b\b\b\b\b\b\b\b\b\b\b\b\b\b\b\b\b\b\b\b\b\b\b\b\b\b\b\b\b\b\b\b\b\b\b\b\b\b\b\b\b\r",
      "1875/1875 [==============================] - 3s 2ms/step - loss: 0.0204 - accuracy: 0.9796 - val_loss: 0.0168 - val_accuracy: 0.9832\n"
     ]
    },
    {
     "data": {
      "text/plain": [
       "<keras.callbacks.History at 0x224e1a59c10>"
      ]
     },
     "execution_count": 15,
     "metadata": {},
     "output_type": "execute_result"
    }
   ],
   "source": [
    "model_3.fit(train_images, is_six_train, epochs=config.epochs, \n",
    "            validation_data=(test_images, is_six_test),\n",
    "           callbacks=[WandbCallback(labels=labels)])"
   ]
  },
  {
   "cell_type": "markdown",
   "id": "0e448c34",
   "metadata": {},
   "source": [
    "Conclusion:\n",
    "\n",
    "Analysing at 9th epoch\n",
    "\n",
    "model_1 --> With epocs = 10, accuracy = 61.37% , loss = 6.947\n",
    "\n",
    "model_2 --> Increase in epochs(epochs = 100), accuracy = 59.17% , loss = 6.079\n",
    "\n",
    "model_3 --> Using activation function(epochs=10), accuracy = 97.96% , loss = 0.02038\n",
    "\n",
    "So increasing the epochs was not helpful, however using the activation function results in great results!\n",
    "\n",
    "Thanks Keep Learning!!"
   ]
  },
  {
   "cell_type": "markdown",
   "id": "4bc4e7e1",
   "metadata": {},
   "source": [
    "W&B Project Link - https://wandb.ai/mudgalabhay57/mnist-wandb-is_six?workspace=user-mudgalabhay57"
   ]
  }
 ],
 "metadata": {
  "kernelspec": {
   "display_name": "wandb_env",
   "language": "python",
   "name": "wandb_env"
  },
  "language_info": {
   "codemirror_mode": {
    "name": "ipython",
    "version": 3
   },
   "file_extension": ".py",
   "mimetype": "text/x-python",
   "name": "python",
   "nbconvert_exporter": "python",
   "pygments_lexer": "ipython3",
   "version": "3.8.13"
  }
 },
 "nbformat": 4,
 "nbformat_minor": 5
}
